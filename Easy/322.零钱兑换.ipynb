{
 "cells": [
  {
   "cell_type": "code",
   "execution_count": null,
   "metadata": {},
   "outputs": [],
   "source": [
    "class Solution:\n",
    "    def coinChange(self, coins: List[int], amount: int) -> int:\n",
    "        dp = [amount + 1] * (amount + 1)\n",
    "        dp[0] = 0\n",
    "        for i in range(amount + 1):\n",
    "            for coin in coins:\n",
    "                if (i-coin < 0):\n",
    "                    continue\n",
    "                dp[i] = min(dp[i],dp[i - coin] + 1)\n",
    "        return dp[amount] if dp[amount] != amount + 1 else -1\n"
   ]
  }
 ],
 "metadata": {
  "kernelspec": {
   "display_name": "Pytorch for Deeplearning",
   "language": "python",
   "name": "pytorch"
  },
  "language_info": {
   "codemirror_mode": {
    "name": "ipython",
    "version": 3
   },
   "file_extension": ".py",
   "mimetype": "text/x-python",
   "name": "python",
   "nbconvert_exporter": "python",
   "pygments_lexer": "ipython3",
   "version": "3.6.7"
  }
 },
 "nbformat": 4,
 "nbformat_minor": 2
}
