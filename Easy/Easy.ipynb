{
 "cells": [
  {
   "cell_type": "markdown",
   "metadata": {},
   "source": [
    "## Easy\n",
    "### 136.只出现一次的数字\n",
    "    1. 哈希或者集合, O(n) and O(n)\n",
    "    2. 位运算异或 O(n) and O(1)"
   ]
  },
  {
   "cell_type": "code",
   "execution_count": null,
   "metadata": {},
   "outputs": [],
   "source": [
    "class Solution(object):\n",
    "    # def singleNumber(self, nums):\n",
    "    #     # 字典实现哈希\n",
    "    #     dic = {}\n",
    "    #     for num in nums:\n",
    "    #         try:\n",
    "    #             dic[num] += 1\n",
    "    #         except KeyError:\n",
    "    #             dic[num] = 1\n",
    "    #     for num in nums:\n",
    "    #         if dic[num] == 1:\n",
    "    #             return num\n",
    "\n",
    "    # def singleNumber(self, nums):\n",
    "    #     # 集合\n",
    "    #     s = set()\n",
    "    #     for num in nums:\n",
    "    #         if num in s:\n",
    "    #             s.remove(num)\n",
    "    #         else:\n",
    "    #             s.add(num)\n",
    "    #     return s.pop()\n",
    "    \n",
    "    def singleNumber(self, nums):\n",
    "        # 位运算-异或\n",
    "        res = 0\n",
    "        for num in nums:\n",
    "            res ^= num\n",
    "        return res"
   ]
  }
 ],
 "metadata": {
  "kernelspec": {
   "display_name": "Pytorch for Deeplearning",
   "language": "python",
   "name": "pytorch"
  },
  "language_info": {
   "codemirror_mode": {
    "name": "ipython",
    "version": 3
   },
   "file_extension": ".py",
   "mimetype": "text/x-python",
   "name": "python",
   "nbconvert_exporter": "python",
   "pygments_lexer": "ipython3",
   "version": "3.6.7"
  }
 },
 "nbformat": 4,
 "nbformat_minor": 2
}
