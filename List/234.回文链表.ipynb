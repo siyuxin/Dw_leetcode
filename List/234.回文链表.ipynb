{
 "cells": [
  {
   "cell_type": "markdown",
   "metadata": {},
   "source": [
    "### 题目\n",
    "请判断一个链表是否为回文链表。即正着遍历和反着遍历得到的序列相同。\n",
    "\n",
    "示例 1:\n",
    "\n",
    "输入: 1->2\n",
    "输出: false\n",
    "\n",
    "示例 2:\n",
    "\n",
    "输入: 1->2->2->1\n",
    "输出: true\n"
   ]
  },
  {
   "cell_type": "code",
   "execution_count": null,
   "metadata": {},
   "outputs": [],
   "source": [
    "# Definition for singly-linked list.\n",
    "# class ListNode:\n",
    "#     def __init__(self, x):\n",
    "#         self.val = x\n",
    "#         self.next = None\n",
    "\n",
    "class Solution:\n",
    "    def isPalindrome(self, head: ListNode) -> bool:\n",
    "        fast = slow = head\n",
    "        while fast and fast.next:\n",
    "            fast = fast.next.next\n",
    "            slow = slow.next\n",
    "        fast = slow\n",
    "        p = None\n",
    "        while fast:\n",
    "            tmp = fast.next\n",
    "            fast.next = p\n",
    "            p = fast\n",
    "            fast = tmp\n",
    "        fast = p\n",
    "        slow = head\n",
    "        while fast:\n",
    "            if slow.val == fast.val:\n",
    "                slow, fast = slow.next, fast.next\n",
    "            else:return False\n",
    "        return True"
   ]
  }
 ],
 "metadata": {
  "kernelspec": {
   "display_name": "Python 3",
   "language": "python",
   "name": "python3"
  },
  "language_info": {
   "codemirror_mode": {
    "name": "ipython",
    "version": 3
   },
   "file_extension": ".py",
   "mimetype": "text/x-python",
   "name": "python",
   "nbconvert_exporter": "python",
   "pygments_lexer": "ipython3",
   "version": "3.7.3"
  }
 },
 "nbformat": 4,
 "nbformat_minor": 2
}
