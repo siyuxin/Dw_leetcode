{
 "cells": [
  {
   "cell_type": "markdown",
   "metadata": {},
   "source": [
    "### 题目描述\n",
    "\n",
    "给定一个包含 0, 1, 2, …, n 中 n 个数的序列，找出 0 .. n 中没有出现在序列中的那个数。\n",
    "### 样例\n",
    "\n",
    "示例 1:\n",
    "\n",
    "输入: [3,0,1]\n",
    "输出: 2\n",
    "\n",
    "示例 2:\n",
    "\n",
    "输入: [9,6,4,2,3,5,7,0,1]\n",
    "输出: 8"
   ]
  },
  {
   "cell_type": "code",
   "execution_count": 25,
   "metadata": {},
   "outputs": [
    {
     "name": "stdout",
     "output_type": "stream",
     "text": [
      "0.0\n"
     ]
    }
   ],
   "source": [
    "class Solution:\n",
    "    def missingNumber(self,nums):\n",
    "        #数列求和 - 元素和\n",
    "#         sum1 = 0\n",
    "#         for i in range(len(nums)):\n",
    "#             sum1 += i\n",
    "#         return (len(nums) * (len(nums) - 1) /2) - sum1 \n",
    "        #set差集 \n",
    "        return list(set(range(len(nums)+1)) - set(nums))[0]\n",
    "\n",
    "if __name__ == '__main__':\n",
    "    nums = [3,0,1]\n",
    "    s = Solution()\n",
    "    print(s.missingNumber(nums))\n",
    "    "
   ]
  },
  {
   "cell_type": "code",
   "execution_count": null,
   "metadata": {},
   "outputs": [],
   "source": []
  }
 ],
 "metadata": {
  "kernelspec": {
   "display_name": "Python 3",
   "language": "python",
   "name": "python3"
  },
  "language_info": {
   "codemirror_mode": {
    "name": "ipython",
    "version": 3
   },
   "file_extension": ".py",
   "mimetype": "text/x-python",
   "name": "python",
   "nbconvert_exporter": "python",
   "pygments_lexer": "ipython3",
   "version": "3.7.3"
  }
 },
 "nbformat": 4,
 "nbformat_minor": 2
}
