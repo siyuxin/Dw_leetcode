{
 "cells": [
  {
   "cell_type": "markdown",
   "metadata": {},
   "source": [
    "### 题目描述\n",
    "\n",
    "给定一个单链表，删除其中值等于 val的节点。\n",
    "### 样例\n",
    "\n",
    "输入：1->2->6->3->4->5->6, val = 6\n",
    "输出：1->2->3->4->5"
   ]
  },
  {
   "cell_type": "markdown",
   "metadata": {},
   "source": [
    "### 思路\n",
    "(模拟，链表操作) O(n)\n",
    "\n",
    "为了便于处理边界情况，我们定义一个虚拟头结点指向原链表的头结点。\n",
    "\n",
    "然后从虚拟头结点开始遍历，当下一个节点的值等于 val\n",
    "时，我们将当前节点的 next 指针指向下一个节点的 next\n",
    "\n",
    "指针，从而将下一个节点删除。\n",
    "\n",
    "最后虚拟头结点的 next\n",
    "\n",
    "指针就是新链表的头结点。\n",
    "\n",
    "### 时间复杂度分析：\n",
    "链表中每个元素仅被遍历一次，所以时间复杂度是 O(n)。"
   ]
  },
  {
   "cell_type": "code",
   "execution_count": null,
   "metadata": {},
   "outputs": [],
   "source": [
    "class Solution:\n",
    "    def removeElements(self, head: ListNode, val: int) -> ListNode:\n",
    "        while head and head.val == val:\n",
    "            head = head.next\n",
    "        pre, cur = head, head and head.next\n",
    "        while cur:\n",
    "            if cur.val == val:\n",
    "                pre.next = cur = cur.next\n",
    "            else:\n",
    "                pre, cur = cur, cur.next\n",
    "        return head\n"
   ]
  }
 ],
 "metadata": {
  "kernelspec": {
   "display_name": "Python 3",
   "language": "python",
   "name": "python3"
  },
  "language_info": {
   "codemirror_mode": {
    "name": "ipython",
    "version": 3
   },
   "file_extension": ".py",
   "mimetype": "text/x-python",
   "name": "python",
   "nbconvert_exporter": "python",
   "pygments_lexer": "ipython3",
   "version": "3.7.3"
  }
 },
 "nbformat": 4,
 "nbformat_minor": 2
}
