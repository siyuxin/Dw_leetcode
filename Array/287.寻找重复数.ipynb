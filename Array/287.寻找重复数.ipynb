{
 "cells": [
  {
   "cell_type": "markdown",
   "metadata": {},
   "source": [
    "### 题目\n",
    "给定一个包含 n + 1 个整数的数组 nums，其数字都在 1 到 n 之间（包括 1 和 n），可知至少存在一个重复的整数。假设只有一个重复的整数，找出这个重复的数。\n",
    "\n",
    "### 示例\n",
    "示例 1:\n",
    "\n",
    "输入: [1,3,4,2,2]\n",
    "输出: 2\n",
    "\n",
    "示例 2:\n",
    "\n",
    "输入: [3,1,3,4,2]\n",
    "输出: 3\n",
    "\n",
    "### 说明：\n",
    "\n",
    "    不能更改原数组（假设数组是只读的）。\n",
    "    只能使用额外的 O(1) 的空间。\n",
    "    时间复杂度小于 O(n2) 。\n",
    "    数组中只有一个重复的数字，但它可能不止重复出现一次。\n"
   ]
  },
  {
   "cell_type": "code",
   "execution_count": 4,
   "metadata": {},
   "outputs": [
    {
     "name": "stdout",
     "output_type": "stream",
     "text": [
      "2\n"
     ]
    }
   ],
   "source": [
    "class Solution:\n",
    "    def findDuplicate(self, nums):\n",
    "        ##二分查找\n",
    "        left = 1\n",
    "        right = len(nums)\n",
    "        while left < right:\n",
    "            mid = int(left + (right - left)/2)\n",
    "            cnt = 0\n",
    "            for num in nums:\n",
    "                if num <= mid:\n",
    "                   cnt += 1\n",
    "            if cnt <= mid:\n",
    "                left = mid + 1\n",
    "            else:\n",
    "                right = mid\n",
    "        return right\n",
    "    \n",
    "if __name__ == \"__main__\":\n",
    "    nums = [1,3,4,2,2] \n",
    "    s = Solution()\n",
    "    print(s.findDuplicate(nums))"
   ]
  },
  {
   "cell_type": "code",
   "execution_count": null,
   "metadata": {},
   "outputs": [],
   "source": []
  }
 ],
 "metadata": {
  "kernelspec": {
   "display_name": "Pytorch for Deeplearning",
   "language": "python",
   "name": "pytorch"
  },
  "language_info": {
   "codemirror_mode": {
    "name": "ipython",
    "version": 3
   },
   "file_extension": ".py",
   "mimetype": "text/x-python",
   "name": "python",
   "nbconvert_exporter": "python",
   "pygments_lexer": "ipython3",
   "version": "3.6.7"
  }
 },
 "nbformat": 4,
 "nbformat_minor": 2
}
