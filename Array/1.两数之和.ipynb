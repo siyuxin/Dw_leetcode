{
 "cells": [
  {
   "cell_type": "markdown",
   "metadata": {},
   "source": [
    "### 题目描述\n",
    "\n",
    "给定一个整型数组，要求返回两个数的下标，使得两数之和等于给定的目标值，要求同一个下标不能使用两次。\n",
    "数据保证有且仅有一组解。\n",
    "\n",
    "### 样例\n",
    "\n",
    "给定数组 nums = [2, 7, 11, 15]，以及目标值 target = 9，\n",
    "\n",
    "由于 nums[0] + nums[1] = 2 + 7 = 9,\n",
    "所以 return [0, 1]."
   ]
  },
  {
   "cell_type": "markdown",
   "metadata": {},
   "source": [
    "### 解法1\n",
    "(暴力枚举) $O(n^2)$\n",
    "\n",
    "暴力枚举方法很简单：两重循环枚举下标 i,j\n",
    "，然后判断 nums[i]+nums[j] 是否等于 target。\n",
    "### 时间复杂度：\n",
    "由于有两重循环，所以复杂度是 $O(n^2)$."
   ]
  },
  {
   "cell_type": "code",
   "execution_count": null,
   "metadata": {},
   "outputs": [],
   "source": [
    "class Solution:\n",
    "    def twoSum(self, nums: List[int], target: int) -> List[int]:\n",
    "    n = len(nums) \n",
    "        for x in range(n): \n",
    "            for y in range(x+1,n): \n",
    "                if nums[x] + nums[y] == target: \n",
    "                    return x,y \n",
    "                    break \n",
    "                else: \n",
    "                    continue "
   ]
  },
  {
   "cell_type": "markdown",
   "metadata": {},
   "source": [
    "### 解法2\n",
    "\n",
    "\n",
    "    判断 target−nums[i]是否在哈希表中；\n",
    "    将 nums[i]插入哈希表中；\n",
    "\n",
    "### 时间复杂度：\n",
    "由于只扫描一遍，且哈希表的插入和查询操作的复杂度是 O(1)，所以总时间复杂度是 O(n)."
   ]
  },
  {
   "cell_type": "code",
   "execution_count": null,
   "metadata": {},
   "outputs": [],
   "source": [
    "class Solution:\n",
    "    #哈希表\n",
    "    def twoSum(self, nums: List[int], target: int) -> List[int]:\n",
    "        hashmap = {}\n",
    "        for i, value in enumerate(nums):\n",
    "            diff = target - value\n",
    "            if diff in hashmap:\n",
    "                return [hashmap.get(diff), i] \n",
    "            hashmap[value] = i "
   ]
  }
 ],
 "metadata": {
  "kernelspec": {
   "display_name": "Python 3",
   "language": "python",
   "name": "python3"
  },
  "language_info": {
   "codemirror_mode": {
    "name": "ipython",
    "version": 3
   },
   "file_extension": ".py",
   "mimetype": "text/x-python",
   "name": "python",
   "nbconvert_exporter": "python",
   "pygments_lexer": "ipython3",
   "version": "3.7.3"
  }
 },
 "nbformat": 4,
 "nbformat_minor": 2
}
